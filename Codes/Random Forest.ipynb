{
 "cells": [
  {
   "cell_type": "code",
   "execution_count": null,
   "id": "3493d429",
   "metadata": {},
   "outputs": [],
   "source": [
    "import pandas as pd\n",
    "from sklearn.ensemble import RandomForestClassifier\n",
    "from sklearn.model_selection import train_test_split\n",
    "from sklearn.preprocessing import StandardScaler\n",
    "from sklearn.preprocessing import LabelEncoder\n",
    "from sklearn.preprocessing import OneHotEncoder\n",
    "from sklearn.ensemble import RandomForestClassifier\n",
    "from sklearn.metrics import roc_auc_score, roc_curve\n",
    "import matplotlib.pyplot as plt"
   ]
  },
  {
   "cell_type": "code",
   "execution_count": null,
   "id": "9ace9d7d",
   "metadata": {},
   "outputs": [],
   "source": [
    "# 加载数据集\n",
    "data = pd.read_csv('pro_stru_features.csv')\n",
    "\n",
    "# 将特征列和标签列分离出来\n",
    "features = data.drop(['normalized_length', 'normalized_abs_surf_acc', 'rel_surf_acc', 'prob_helix', 'prob_sheet', 'prob_coil'], axis=1)\n",
    "labels = data['p_interface']"
   ]
  },
  {
   "cell_type": "code",
   "execution_count": null,
   "id": "698e8ae9",
   "metadata": {},
   "outputs": [],
   "source": [
    "# 对蛋白质序列进行单热编码\n",
    "encoder = OneHotEncoder(sparse=False, handle_unknown='ignore')\n",
    "sequence_encoded = encoder.fit_transform(features['sequence'].values.reshape(-1, 1))\n",
    "# 将单热编码后的序列加入特征矩阵中\n",
    "features_encoded = pd.concat([features.drop('sequence', axis=1), pd.DataFrame(sequence_encoded)], axis=1)"
   ]
  },
  {
   "cell_type": "code",
   "execution_count": null,
   "id": "8bcc3261",
   "metadata": {},
   "outputs": [],
   "source": [
    "# 对标签列进行标签编码\n",
    "label_encoder = LabelEncoder()\n",
    "labels_encoded = label_encoder.fit_transform(labels)"
   ]
  },
  {
   "cell_type": "code",
   "execution_count": null,
   "id": "d643cf92",
   "metadata": {},
   "outputs": [],
   "source": [
    "# 将特征列进行特征缩放\n",
    "scaler = StandardScaler()\n",
    "scaled_features = scaler.fit_transform(features_encoded)"
   ]
  },
  {
   "cell_type": "code",
   "execution_count": null,
   "id": "a0df9c8b",
   "metadata": {},
   "outputs": [],
   "source": [
    "# 将数据集分为训练集、验证集和测试集\n",
    "train_features, test_features, train_labels, test_labels = train_test_split(scaled_features, labels_encoded, test_size=0.2, random_state=42)\n",
    "train_features, val_features, train_labels, val_labels = train_test_split(train_features, train_labels, test_size=0.2, random_state=42)"
   ]
  },
  {
   "cell_type": "code",
   "execution_count": null,
   "id": "94ac64ad",
   "metadata": {},
   "outputs": [],
   "source": [
    "# 训练模型\n",
    "rfc = RandomForestClassifier(random_state=42)\n",
    "rfc.fit(train_features, train_labels)\n",
    "\n",
    "# 在验证集上评估模型性能\n",
    "val_acc = rfc.score(val_features, val_labels)\n",
    "print('Validation accuracy:', val_acc)\n",
    "\n",
    "# 在测试集上评估模型性能\n",
    "test_acc = rfc.score(test_features, test_labels)\n",
    "print('Test accuracy:', test_acc)"
   ]
  }
 ],
 "metadata": {
  "kernelspec": {
   "display_name": "Python 3 (ipykernel)",
   "language": "python",
   "name": "python3"
  },
  "language_info": {
   "codemirror_mode": {
    "name": "ipython",
    "version": 3
   },
   "file_extension": ".py",
   "mimetype": "text/x-python",
   "name": "python",
   "nbconvert_exporter": "python",
   "pygments_lexer": "ipython3",
   "version": "3.9.13"
  }
 },
 "nbformat": 4,
 "nbformat_minor": 5
}
