{
 "cells": [
  {
   "cell_type": "code",
   "execution_count": null,
   "id": "3ee9417d",
   "metadata": {},
   "outputs": [],
   "source": [
    "import pandas as pd\n",
    "import numpy as np\n",
    "from sklearn.model_selection import train_test_split\n",
    "from sklearn.neural_network import MLPClassifier\n",
    "from sklearn.metrics import accuracy_score"
   ]
  },
  {
   "cell_type": "code",
   "execution_count": null,
   "id": "1aac910b",
   "metadata": {},
   "outputs": [],
   "source": [
    "data = pd.read_csv('protein_functional_features.csv')"
   ]
  },
  {
   "cell_type": "code",
   "execution_count": null,
   "id": "43289022",
   "metadata": {},
   "outputs": [],
   "source": [
    "#数据集分成训练集和测试集3:1\n",
    "#X为特征矩阵，y为目标向量。test_size参数指定测试集所占比例,random_state参数指定随机数种子。\n",
    "X = data.drop(['normalized_abs_surf_acc','prob_helix','prob_sheet','prob_coil'], axis=1)\n",
    "y = data['p_interface']\n",
    "X_train, X_test, y_train, y_test = train_test_split(X, y, test_size=0.25, random_state=42)"
   ]
  },
  {
   "cell_type": "code",
   "execution_count": null,
   "id": "908fb006",
   "metadata": {},
   "outputs": [],
   "source": [
    "model = MLPClassifier(hidden_layer_sizes=(100,), max_iter=1000)\n",
    "model.fit(X_train, y_train)"
   ]
  },
  {
   "cell_type": "code",
   "execution_count": null,
   "id": "c106c2a4",
   "metadata": {},
   "outputs": [],
   "source": [
    "y_pred = model.predict(X_test)\n",
    "accuracy = accuracy_score(y_test, y_pred)\n",
    "print('Accuracy:', accuracy)"
   ]
  }
 ],
 "metadata": {
  "kernelspec": {
   "display_name": "Python 3 (ipykernel)",
   "language": "python",
   "name": "python3"
  },
  "language_info": {
   "codemirror_mode": {
    "name": "ipython",
    "version": 3
   },
   "file_extension": ".py",
   "mimetype": "text/x-python",
   "name": "python",
   "nbconvert_exporter": "python",
   "pygments_lexer": "ipython3",
   "version": "3.9.13"
  }
 },
 "nbformat": 4,
 "nbformat_minor": 5
}
